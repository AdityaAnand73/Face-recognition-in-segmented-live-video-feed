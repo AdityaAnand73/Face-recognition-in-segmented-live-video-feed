{
 "cells": [
  {
   "cell_type": "markdown",
   "id": "6180f033",
   "metadata": {},
   "source": [
    "## Importing necessary libraries:"
   ]
  },
  {
   "cell_type": "code",
   "execution_count": 1,
   "id": "1469270f",
   "metadata": {},
   "outputs": [],
   "source": [
    "import os,shutil   #using these to manage folders and files on system\n",
    "import random      #using it to randomly select images for splitting\n",
    "import cv2         #using it for image processing \n",
    "import numpy as np #using it to deal with image matrices"
   ]
  },
  {
   "cell_type": "markdown",
   "id": "7b3d0ad2",
   "metadata": {},
   "source": [
    "## Defining functions to capture images and to extract faces:"
   ]
  },
  {
   "cell_type": "code",
   "execution_count": 2,
   "id": "22d28726",
   "metadata": {},
   "outputs": [],
   "source": [
    "# Load HAAR cascade frontal face classifier\n",
    "face_classifier = cv2.CascadeClassifier('haarcascade_frontalface_default.xml')\n",
    "\n",
    "def face_extractor(img):\n",
    "    # Function detects faces and returns the cropped face\n",
    "    # If no face detected, it returns None\n",
    "    if img is None:\n",
    "        return None\n",
    "    \n",
    "    gray = cv2.cvtColor(img,cv2.COLOR_BGR2GRAY)\n",
    "    faces = face_classifier.detectMultiScale(gray, 1.3, 5)\n",
    "    \n",
    "    if faces == ():\n",
    "        return None\n",
    "    \n",
    "    # Crop all faces found\n",
    "    for (x,y,w,h) in faces:\n",
    "        cropped_face = img[y:y+h, x:x+w]\n",
    "\n",
    "    return cropped_face\n",
    "\n",
    "def cap_images(face_path,count):\n",
    "    # for capturing the given number of images to specified path\n",
    "    # Initialize Webcam\n",
    "    cap = cv2.VideoCapture(0)\n",
    "    i = 0\n",
    "    \n",
    "    while True:\n",
    "\n",
    "        ret, frame = cap.read()\n",
    "        if face_extractor(frame) is not None:\n",
    "            i += 1\n",
    "            face = cv2.resize(face_extractor(frame), (224, 224))\n",
    "            # Save file in specified directory with unique name\n",
    "            file_name_path = face_path +'//img' + str(i) + '.jpg'\n",
    "            cv2.imwrite(file_name_path, face)\n",
    "\n",
    "            # Put count on images and display live count\n",
    "            cv2.putText(face, str(i), (50, 50), cv2.FONT_HERSHEY_COMPLEX, 1, (0,255,0), 2)\n",
    "            cv2.imshow('Face Cropper', face)\n",
    "\n",
    "        else:\n",
    "            print(\"Face not found\")\n",
    "            pass\n",
    "\n",
    "        if cv2.waitKey(1) == 13 or i == count: #13 is the Enter Key\n",
    "            break\n",
    "\n",
    "    cap.release()\n",
    "    cv2.destroyAllWindows()"
   ]
  },
  {
   "cell_type": "markdown",
   "id": "429a59d2",
   "metadata": {},
   "source": [
    "## Calling functions to capture and save extracted images:"
   ]
  },
  {
   "cell_type": "code",
   "execution_count": 12,
   "id": "f243824d",
   "metadata": {},
   "outputs": [
    {
     "name": "stderr",
     "output_type": "stream",
     "text": [
      "C:\\Users\\aa731\\AppData\\Local\\Temp\\ipykernel_21444\\1118485050.py:13: DeprecationWarning: elementwise comparison failed; this will raise an error in the future.\n",
      "  if faces == ():\n"
     ]
    },
    {
     "name": "stdout",
     "output_type": "stream",
     "text": [
      "Collecting Training Samples Complete\n"
     ]
    }
   ],
   "source": [
    "# Collect 200 samples of your face from webcam input\n",
    "\n",
    "cap_images('C://Users//aa731//python projects//dataset//Training//Aditya',1000)\n",
    "cap_images('C://Users//aa731//python projects//dataset//Training//Anjali',1000)\n",
    "cap_images('C://Users//aa731//python projects//dataset//Training//DivyanshT',1000)\n",
    "print(\"Collecting Training Samples Complete\")"
   ]
  },
  {
   "cell_type": "code",
   "execution_count": 13,
   "id": "5a89b5db",
   "metadata": {},
   "outputs": [
    {
     "name": "stderr",
     "output_type": "stream",
     "text": [
      "C:\\Users\\aa731\\AppData\\Local\\Temp\\ipykernel_21444\\1118485050.py:13: DeprecationWarning: elementwise comparison failed; this will raise an error in the future.\n",
      "  if faces == ():\n"
     ]
    },
    {
     "name": "stdout",
     "output_type": "stream",
     "text": [
      "Collecting Validation Samples Complete\n"
     ]
    }
   ],
   "source": [
    "# Collect 20 samples of your face from webcam input\n",
    "\n",
    "cap_images('C://Users//aa731//python projects//dataset//Validation//Aditya',250)\n",
    "cap_images('C://Users//aa731//python projects//dataset//Validation//Anjali',250)\n",
    "cap_images('C://Users//aa731//python projects//dataset//Validation//DivyanshV',250)\n",
    "print(\"Collecting Validation Samples Complete\")"
   ]
  },
  {
   "cell_type": "markdown",
   "id": "70035098",
   "metadata": {},
   "source": [
    "## Defining function to extract and save cropped images from files:"
   ]
  },
  {
   "cell_type": "code",
   "execution_count": 28,
   "id": "71606ee3",
   "metadata": {},
   "outputs": [],
   "source": [
    "# def crop_face_from_file(source_path):    \n",
    "#     os.mkdir(source_path + \"_cropped\")   # making new directory for cropped images\n",
    "#     dest_path = source_path + \"_cropped\" # setting destination path for cropped images\n",
    "    \n",
    "#     for i in os.listdir(source_path):\n",
    "#         img = cv2.imread(source_path + \"//\"+i) # reading images from files\n",
    "        \n",
    "#         cropped_face = face_extractor(img)     # extracting cropped images\n",
    "        \n",
    "#         if cropped_face  is not None:\n",
    "#             face = cv2.resize(cropped_face, (224, 224))  # resizing cropped images\n",
    "#             # Save file in specified directory with unique name\n",
    "#             file_name_path = dest_path +'//img' + str(i) \n",
    "#             cv2.imwrite(file_name_path, face)"
   ]
  },
  {
   "cell_type": "markdown",
   "id": "7c81b8e3",
   "metadata": {},
   "source": [
    "## Calling functions to crop images from files:"
   ]
  },
  {
   "cell_type": "code",
   "execution_count": 15,
   "id": "c91b68ca",
   "metadata": {},
   "outputs": [],
   "source": [
    "# crop_face_from_file(\"C://Users//aa731//python projects//dataset//Anushka_Sharma\")"
   ]
  },
  {
   "cell_type": "code",
   "execution_count": 30,
   "id": "418d7cf7",
   "metadata": {},
   "outputs": [
    {
     "name": "stderr",
     "output_type": "stream",
     "text": [
      "C:\\Users\\aa731\\AppData\\Local\\Temp\\ipykernel_7940\\2983441695.py:14: DeprecationWarning: elementwise comparison failed; this will raise an error in the future.\n",
      "  if faces == ():\n"
     ]
    }
   ],
   "source": [
    "# crop_face_from_file(\"C://Users//aa731//python projects//dataset//Akshay_Kumar\")"
   ]
  },
  {
   "cell_type": "markdown",
   "id": "53fc50b6",
   "metadata": {},
   "source": [
    "## Defining function to split our data:"
   ]
  },
  {
   "cell_type": "code",
   "execution_count": 34,
   "id": "3c84efc2",
   "metadata": {},
   "outputs": [],
   "source": [
    "\n",
    "# def img_split(source_path, dest_val_path, dest_train_path, dir_name, val_size):\n",
    "#     #to split data into separate directories for training and validation\n",
    "#     img_list = os.listdir(source_path)\n",
    "    \n",
    "#     size = len(img_list)\n",
    "\n",
    "#     imgs = random.sample(img_list,int(val_size*size))  # randomly selecting data \n",
    "    \n",
    "#     print(imgs)\n",
    "#     os.mkdir(dest_train_path + \"//\" + dir_name)\n",
    "#     os.mkdir(dest_val_path + \"//\" + dir_name)\n",
    "\n",
    "#     for i in imgs:\n",
    "#         shutil.copy(source_path +'//'+ i , dest_val_path+ '//' + dir_name)       #saving data for validation\n",
    "#     for i in img_list:\n",
    "#         if i not in imgs:\n",
    "#             shutil.copy(source_path +'//'+ i , dest_train_path+ '//' + dir_name) #saving data for training"
   ]
  },
  {
   "cell_type": "markdown",
   "id": "b845114e",
   "metadata": {},
   "source": [
    "## Calling function to split data for training and validation:"
   ]
  },
  {
   "cell_type": "code",
   "execution_count": 37,
   "id": "2a059478",
   "metadata": {},
   "outputs": [
    {
     "name": "stdout",
     "output_type": "stream",
     "text": [
      "['img101.jpg', 'img11.jpg', 'img104.jpg', 'img132.jpg', 'img54.jpg', 'img126.jpg', 'img58.jpg', 'img90.jpg', 'img94.jpg', 'img141.jpg', 'img105.jpg', 'img14.jpg', 'img98.jpg']\n"
     ]
    }
   ],
   "source": [
    "# img_split('C://Users//aa731//python projects//dataset//Anushka_Sharma_cropped',\n",
    "#           'C://Users//aa731//python projects//dataset//Validation',\n",
    "#           'C://Users//aa731//python projects//dataset//Training',\n",
    "#           'Anushka',0.1)"
   ]
  },
  {
   "cell_type": "code",
   "execution_count": 38,
   "id": "a03cf736",
   "metadata": {},
   "outputs": [
    {
     "name": "stdout",
     "output_type": "stream",
     "text": [
      "['img5.jpg', 'img102.jpg', 'img79.jpg', 'img87.jpg', 'img119.jpg', 'img55.jpg', 'img3.jpg', 'img85.jpg', 'img10.jpg', 'img77.jpg']\n"
     ]
    }
   ],
   "source": [
    "# img_split('C://Users//aa731//python projects//dataset//Akshay_Kumar_cropped',\n",
    "#           'C://Users//aa731//python projects//dataset//Validation',\n",
    "#           'C://Users//aa731//python projects//dataset//Training',\n",
    "#           'Akshay',0.1)"
   ]
  }
 ],
 "metadata": {
  "kernelspec": {
   "display_name": "Python 3 (ipykernel)",
   "language": "python",
   "name": "python3"
  },
  "language_info": {
   "codemirror_mode": {
    "name": "ipython",
    "version": 3
   },
   "file_extension": ".py",
   "mimetype": "text/x-python",
   "name": "python",
   "nbconvert_exporter": "python",
   "pygments_lexer": "ipython3",
   "version": "3.10.8"
  }
 },
 "nbformat": 4,
 "nbformat_minor": 5
}
